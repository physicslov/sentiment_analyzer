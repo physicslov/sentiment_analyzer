{
  "cells": [
    {
      "cell_type": "markdown",
      "source": [
        "Impoting Required libraries"
      ],
      "metadata": {
        "id": "98IBV0c-i4md"
      }
    },
    {
      "cell_type": "code",
      "execution_count": 2,
      "metadata": {
        "id": "18KsVWGxUuaV"
      },
      "outputs": [],
      "source": [
        "import os\n",
        "import json\n",
        "import zipfile\n",
        "import pandas as pd\n",
        "\n",
        "import tensorflow as tf\n",
        "from sklearn.model_selection import train_test_split\n",
        "from tensorflow.keras.models import Sequential\n",
        "from tensorflow.keras.layers import Dense,LSTM,Embedding\n",
        "from tensorflow.keras.preprocessing.text import Tokenizer\n",
        "from tensorflow.keras.preprocessing.sequence import pad_sequences\n"
      ]
    },
    {
      "cell_type": "markdown",
      "source": [
        "Forming a python Dictonary to store username and key"
      ],
      "metadata": {
        "id": "PqJ0g4SSi_yl"
      }
    },
    {
      "cell_type": "code",
      "execution_count": 8,
      "metadata": {
        "id": "ytwyY5d-WmUC"
      },
      "outputs": [],
      "source": [
        "kaggle_dict = json.load(open('/content/kaggle.json'))"
      ]
    },
    {
      "cell_type": "markdown",
      "source": [
        "Fetching username and key From Dictionary"
      ],
      "metadata": {
        "id": "wZRljfNYjOfo"
      }
    },
    {
      "cell_type": "code",
      "execution_count": 9,
      "metadata": {
        "id": "bklgxw8CWmQk"
      },
      "outputs": [],
      "source": [
        "os.environ['KAGGLE_USERNAME'] = kaggle_dict['username']\n",
        "os.environ['KAGGLE_KEY'] = kaggle_dict['key']"
      ]
    },
    {
      "cell_type": "markdown",
      "source": [
        "Downloading imdb-dataset-of-50k-movie-reviews dataset from kaggle"
      ],
      "metadata": {
        "id": "Hq9-H9gdjUPX"
      }
    },
    {
      "cell_type": "code",
      "execution_count": 10,
      "metadata": {
        "colab": {
          "base_uri": "https://localhost:8080/"
        },
        "id": "M4mmmrPWWmOI",
        "outputId": "caf0bbde-0c73-46b0-f4b9-2be6aade9215"
      },
      "outputs": [
        {
          "output_type": "stream",
          "name": "stdout",
          "text": [
            "Dataset URL: https://www.kaggle.com/datasets/lakshmi25npathi/imdb-dataset-of-50k-movie-reviews\n",
            "License(s): other\n",
            "Downloading imdb-dataset-of-50k-movie-reviews.zip to /content\n",
            " 97% 25.0M/25.7M [00:02<00:00, 22.0MB/s]\n",
            "100% 25.7M/25.7M [00:02<00:00, 12.2MB/s]\n"
          ]
        }
      ],
      "source": [
        "!kaggle datasets download -d lakshmi25npathi/imdb-dataset-of-50k-movie-reviews"
      ]
    },
    {
      "cell_type": "markdown",
      "source": [
        "Unzip the zipped file"
      ],
      "metadata": {
        "id": "_rn-xWgPjelN"
      }
    },
    {
      "cell_type": "code",
      "execution_count": 11,
      "metadata": {
        "id": "_uZN90z2WmLz"
      },
      "outputs": [],
      "source": [
        "zip_ref = zipfile.ZipFile('/content/imdb-dataset-of-50k-movie-reviews.zip')\n",
        "zip_ref.extractall()"
      ]
    },
    {
      "cell_type": "markdown",
      "source": [
        "Data Loading"
      ],
      "metadata": {
        "id": "Bmfsl7gNjit3"
      }
    },
    {
      "cell_type": "code",
      "execution_count": 12,
      "metadata": {
        "id": "KlpVwJkfWmJz"
      },
      "outputs": [],
      "source": [
        "data = pd.read_csv('/content/IMDB Dataset.csv')"
      ]
    },
    {
      "cell_type": "code",
      "execution_count": 13,
      "metadata": {
        "colab": {
          "base_uri": "https://localhost:8080/",
          "height": 206
        },
        "id": "BaCHeTo3WmHm",
        "outputId": "cac195b5-d081-4718-d34c-853aa4761b6c"
      },
      "outputs": [
        {
          "output_type": "execute_result",
          "data": {
            "text/plain": [
              "                                                  review sentiment\n",
              "41466  TV movies generally do not receive as much rec...  positive\n",
              "36507  Klatret©ªsen(Catch That Girl) is really great ...  positive\n",
              "27234  Jon Good's Wife (simply one of the worst title...  negative\n",
              "42761  The Falcon and the Snowman is based on a true ...  positive\n",
              "46464  Good horror movies from France are quite rare,...  positive"
            ],
            "text/html": [
              "\n",
              "  <div id=\"df-e30fe9a6-6e98-4527-9a22-a705fe215e09\" class=\"colab-df-container\">\n",
              "    <div>\n",
              "<style scoped>\n",
              "    .dataframe tbody tr th:only-of-type {\n",
              "        vertical-align: middle;\n",
              "    }\n",
              "\n",
              "    .dataframe tbody tr th {\n",
              "        vertical-align: top;\n",
              "    }\n",
              "\n",
              "    .dataframe thead th {\n",
              "        text-align: right;\n",
              "    }\n",
              "</style>\n",
              "<table border=\"1\" class=\"dataframe\">\n",
              "  <thead>\n",
              "    <tr style=\"text-align: right;\">\n",
              "      <th></th>\n",
              "      <th>review</th>\n",
              "      <th>sentiment</th>\n",
              "    </tr>\n",
              "  </thead>\n",
              "  <tbody>\n",
              "    <tr>\n",
              "      <th>41466</th>\n",
              "      <td>TV movies generally do not receive as much rec...</td>\n",
              "      <td>positive</td>\n",
              "    </tr>\n",
              "    <tr>\n",
              "      <th>36507</th>\n",
              "      <td>Klatret©ªsen(Catch That Girl) is really great ...</td>\n",
              "      <td>positive</td>\n",
              "    </tr>\n",
              "    <tr>\n",
              "      <th>27234</th>\n",
              "      <td>Jon Good's Wife (simply one of the worst title...</td>\n",
              "      <td>negative</td>\n",
              "    </tr>\n",
              "    <tr>\n",
              "      <th>42761</th>\n",
              "      <td>The Falcon and the Snowman is based on a true ...</td>\n",
              "      <td>positive</td>\n",
              "    </tr>\n",
              "    <tr>\n",
              "      <th>46464</th>\n",
              "      <td>Good horror movies from France are quite rare,...</td>\n",
              "      <td>positive</td>\n",
              "    </tr>\n",
              "  </tbody>\n",
              "</table>\n",
              "</div>\n",
              "    <div class=\"colab-df-buttons\">\n",
              "\n",
              "  <div class=\"colab-df-container\">\n",
              "    <button class=\"colab-df-convert\" onclick=\"convertToInteractive('df-e30fe9a6-6e98-4527-9a22-a705fe215e09')\"\n",
              "            title=\"Convert this dataframe to an interactive table.\"\n",
              "            style=\"display:none;\">\n",
              "\n",
              "  <svg xmlns=\"http://www.w3.org/2000/svg\" height=\"24px\" viewBox=\"0 -960 960 960\">\n",
              "    <path d=\"M120-120v-720h720v720H120Zm60-500h600v-160H180v160Zm220 220h160v-160H400v160Zm0 220h160v-160H400v160ZM180-400h160v-160H180v160Zm440 0h160v-160H620v160ZM180-180h160v-160H180v160Zm440 0h160v-160H620v160Z\"/>\n",
              "  </svg>\n",
              "    </button>\n",
              "\n",
              "  <style>\n",
              "    .colab-df-container {\n",
              "      display:flex;\n",
              "      gap: 12px;\n",
              "    }\n",
              "\n",
              "    .colab-df-convert {\n",
              "      background-color: #E8F0FE;\n",
              "      border: none;\n",
              "      border-radius: 50%;\n",
              "      cursor: pointer;\n",
              "      display: none;\n",
              "      fill: #1967D2;\n",
              "      height: 32px;\n",
              "      padding: 0 0 0 0;\n",
              "      width: 32px;\n",
              "    }\n",
              "\n",
              "    .colab-df-convert:hover {\n",
              "      background-color: #E2EBFA;\n",
              "      box-shadow: 0px 1px 2px rgba(60, 64, 67, 0.3), 0px 1px 3px 1px rgba(60, 64, 67, 0.15);\n",
              "      fill: #174EA6;\n",
              "    }\n",
              "\n",
              "    .colab-df-buttons div {\n",
              "      margin-bottom: 4px;\n",
              "    }\n",
              "\n",
              "    [theme=dark] .colab-df-convert {\n",
              "      background-color: #3B4455;\n",
              "      fill: #D2E3FC;\n",
              "    }\n",
              "\n",
              "    [theme=dark] .colab-df-convert:hover {\n",
              "      background-color: #434B5C;\n",
              "      box-shadow: 0px 1px 3px 1px rgba(0, 0, 0, 0.15);\n",
              "      filter: drop-shadow(0px 1px 2px rgba(0, 0, 0, 0.3));\n",
              "      fill: #FFFFFF;\n",
              "    }\n",
              "  </style>\n",
              "\n",
              "    <script>\n",
              "      const buttonEl =\n",
              "        document.querySelector('#df-e30fe9a6-6e98-4527-9a22-a705fe215e09 button.colab-df-convert');\n",
              "      buttonEl.style.display =\n",
              "        google.colab.kernel.accessAllowed ? 'block' : 'none';\n",
              "\n",
              "      async function convertToInteractive(key) {\n",
              "        const element = document.querySelector('#df-e30fe9a6-6e98-4527-9a22-a705fe215e09');\n",
              "        const dataTable =\n",
              "          await google.colab.kernel.invokeFunction('convertToInteractive',\n",
              "                                                    [key], {});\n",
              "        if (!dataTable) return;\n",
              "\n",
              "        const docLinkHtml = 'Like what you see? Visit the ' +\n",
              "          '<a target=\"_blank\" href=https://colab.research.google.com/notebooks/data_table.ipynb>data table notebook</a>'\n",
              "          + ' to learn more about interactive tables.';\n",
              "        element.innerHTML = '';\n",
              "        dataTable['output_type'] = 'display_data';\n",
              "        await google.colab.output.renderOutput(dataTable, element);\n",
              "        const docLink = document.createElement('div');\n",
              "        docLink.innerHTML = docLinkHtml;\n",
              "        element.appendChild(docLink);\n",
              "      }\n",
              "    </script>\n",
              "  </div>\n",
              "\n",
              "\n",
              "<div id=\"df-76f7d37b-6196-41aa-8606-a0a44118b5e5\">\n",
              "  <button class=\"colab-df-quickchart\" onclick=\"quickchart('df-76f7d37b-6196-41aa-8606-a0a44118b5e5')\"\n",
              "            title=\"Suggest charts\"\n",
              "            style=\"display:none;\">\n",
              "\n",
              "<svg xmlns=\"http://www.w3.org/2000/svg\" height=\"24px\"viewBox=\"0 0 24 24\"\n",
              "     width=\"24px\">\n",
              "    <g>\n",
              "        <path d=\"M19 3H5c-1.1 0-2 .9-2 2v14c0 1.1.9 2 2 2h14c1.1 0 2-.9 2-2V5c0-1.1-.9-2-2-2zM9 17H7v-7h2v7zm4 0h-2V7h2v10zm4 0h-2v-4h2v4z\"/>\n",
              "    </g>\n",
              "</svg>\n",
              "  </button>\n",
              "\n",
              "<style>\n",
              "  .colab-df-quickchart {\n",
              "      --bg-color: #E8F0FE;\n",
              "      --fill-color: #1967D2;\n",
              "      --hover-bg-color: #E2EBFA;\n",
              "      --hover-fill-color: #174EA6;\n",
              "      --disabled-fill-color: #AAA;\n",
              "      --disabled-bg-color: #DDD;\n",
              "  }\n",
              "\n",
              "  [theme=dark] .colab-df-quickchart {\n",
              "      --bg-color: #3B4455;\n",
              "      --fill-color: #D2E3FC;\n",
              "      --hover-bg-color: #434B5C;\n",
              "      --hover-fill-color: #FFFFFF;\n",
              "      --disabled-bg-color: #3B4455;\n",
              "      --disabled-fill-color: #666;\n",
              "  }\n",
              "\n",
              "  .colab-df-quickchart {\n",
              "    background-color: var(--bg-color);\n",
              "    border: none;\n",
              "    border-radius: 50%;\n",
              "    cursor: pointer;\n",
              "    display: none;\n",
              "    fill: var(--fill-color);\n",
              "    height: 32px;\n",
              "    padding: 0;\n",
              "    width: 32px;\n",
              "  }\n",
              "\n",
              "  .colab-df-quickchart:hover {\n",
              "    background-color: var(--hover-bg-color);\n",
              "    box-shadow: 0 1px 2px rgba(60, 64, 67, 0.3), 0 1px 3px 1px rgba(60, 64, 67, 0.15);\n",
              "    fill: var(--button-hover-fill-color);\n",
              "  }\n",
              "\n",
              "  .colab-df-quickchart-complete:disabled,\n",
              "  .colab-df-quickchart-complete:disabled:hover {\n",
              "    background-color: var(--disabled-bg-color);\n",
              "    fill: var(--disabled-fill-color);\n",
              "    box-shadow: none;\n",
              "  }\n",
              "\n",
              "  .colab-df-spinner {\n",
              "    border: 2px solid var(--fill-color);\n",
              "    border-color: transparent;\n",
              "    border-bottom-color: var(--fill-color);\n",
              "    animation:\n",
              "      spin 1s steps(1) infinite;\n",
              "  }\n",
              "\n",
              "  @keyframes spin {\n",
              "    0% {\n",
              "      border-color: transparent;\n",
              "      border-bottom-color: var(--fill-color);\n",
              "      border-left-color: var(--fill-color);\n",
              "    }\n",
              "    20% {\n",
              "      border-color: transparent;\n",
              "      border-left-color: var(--fill-color);\n",
              "      border-top-color: var(--fill-color);\n",
              "    }\n",
              "    30% {\n",
              "      border-color: transparent;\n",
              "      border-left-color: var(--fill-color);\n",
              "      border-top-color: var(--fill-color);\n",
              "      border-right-color: var(--fill-color);\n",
              "    }\n",
              "    40% {\n",
              "      border-color: transparent;\n",
              "      border-right-color: var(--fill-color);\n",
              "      border-top-color: var(--fill-color);\n",
              "    }\n",
              "    60% {\n",
              "      border-color: transparent;\n",
              "      border-right-color: var(--fill-color);\n",
              "    }\n",
              "    80% {\n",
              "      border-color: transparent;\n",
              "      border-right-color: var(--fill-color);\n",
              "      border-bottom-color: var(--fill-color);\n",
              "    }\n",
              "    90% {\n",
              "      border-color: transparent;\n",
              "      border-bottom-color: var(--fill-color);\n",
              "    }\n",
              "  }\n",
              "</style>\n",
              "\n",
              "  <script>\n",
              "    async function quickchart(key) {\n",
              "      const quickchartButtonEl =\n",
              "        document.querySelector('#' + key + ' button');\n",
              "      quickchartButtonEl.disabled = true;  // To prevent multiple clicks.\n",
              "      quickchartButtonEl.classList.add('colab-df-spinner');\n",
              "      try {\n",
              "        const charts = await google.colab.kernel.invokeFunction(\n",
              "            'suggestCharts', [key], {});\n",
              "      } catch (error) {\n",
              "        console.error('Error during call to suggestCharts:', error);\n",
              "      }\n",
              "      quickchartButtonEl.classList.remove('colab-df-spinner');\n",
              "      quickchartButtonEl.classList.add('colab-df-quickchart-complete');\n",
              "    }\n",
              "    (() => {\n",
              "      let quickchartButtonEl =\n",
              "        document.querySelector('#df-76f7d37b-6196-41aa-8606-a0a44118b5e5 button');\n",
              "      quickchartButtonEl.style.display =\n",
              "        google.colab.kernel.accessAllowed ? 'block' : 'none';\n",
              "    })();\n",
              "  </script>\n",
              "</div>\n",
              "\n",
              "    </div>\n",
              "  </div>\n"
            ],
            "application/vnd.google.colaboratory.intrinsic+json": {
              "type": "dataframe",
              "summary": "{\n  \"name\": \"data\",\n  \"rows\": 5,\n  \"fields\": [\n    {\n      \"column\": \"review\",\n      \"properties\": {\n        \"dtype\": \"string\",\n        \"num_unique_values\": 5,\n        \"samples\": [\n          \"Klatret\\u00a9\\u00aasen(Catch That Girl) is really great movie! It's a 'happy' movie. I watched this movie in 'Puchon International Fantastic Film Festival(PiFan)' on July 12nd, 2003. There is Action + Adventure + Comedy + Thrill + Happy + Romance(cute kids' love Triangle!). You must see this movie. :)\",\n          \"Good horror movies from France are quite rare, and it's fairly easy to see why! Whenever a talented young filmmaker releases a staggering new film, he emigrates towards glorious Hollywood immediately after to directed the big-budgeted remake of another great film classic! How can France possibly build up a solid horror reputation when their prodigy-directors leave the country after just one film? \\\"Haute Tension\\\" was a fantastic movie and it earned director Alexandre Aja a (one-way?) ticket to the States to remake \\\"The Hills Have Eyes\\\" (which he did terrifically, I may add). Eric Valette's long-feature debut \\\"Mal\\u00e9fique\\\" was a very promising and engaging horror picture too, and he's already off to the Hollywood as well to direct the remake of Takashi Miike's ghost-story hit \\\"One Missed Call\\\". So there you have it, two very gifted Frenchmen that aren't likely to make any more film in their native country some time soon. \\\"Mal\\u00e9fique\\\" is a simple but efficient chiller that requires some patience due to its slow start, but once the plot properly develops, it offers great atmospheric tension and a handful of marvelous special effects. The film almost entirely takes place in one single location and only introduces four characters. We're inside a ramshackle French prison cell with four occupants. The new arrival is a businessman sentenced to do time for fraud, the elderly and \\\"wise\\\" inmate sadistically killed his wife and then there's a crazy transvestite and a mentally handicapped boy to complete the odd foursome. They find an ancient journal inside the wall of their cell, belonging to a sick murderer in the 1920's who specialized in black magic rites and supernatural ways to escape. The four inmates begin to prepare their own escaping plan using the bizarre formulas of the book, only to realize the occult is something you shouldn't mess with\\u0085 Eric Valette dedicates oceans of time to the character drawings of the four protagonists, which occasionally results in redundant and tedious sub plots, but his reasons for this all become clear in the gruesome climax when the book suddenly turns out to be some type of Wishmaster-device. \\\"Mal\\u00e9fique\\\" is a dark film, with truckloads of claustrophobic tension and several twisted details about human behavior. Watch it before some wealthy American production company decides to remake it with four handsome teenage actors in the unconvincing roles of hardcore criminals.\",\n          \"Jon Good's Wife (simply one of the worst titles for a film ever), or The Red Right Hand (another absolutely awful sounding title that means nothing & has no relevance to the film) under which I saw it, is set in 'Salem, Massachusettes 1978' (incidently the year I was born which was quite possibly the best thing to happen during those 365 days) where five old college friends meet up for a school reunion, gay-boy fagot Roger Mather (John Kuntz, is that surname for real? Just say it out loud...), Martha Alden (Kim Brockington), Rebecca Lawson (Jenna Stern) & her boyfriend Jake Stabler (John Doe), Alan Hobbes (Michael Kevin Walker) & his wife Sandy (Megan Rawa) plus John Good (Marc Ardito, why is the spelling of 'John' different in the title?) & his wife Sara (Abigail Morgan). From the word go there is an uneasy tension in the air & when someone mentions their 'missing' friend Calef (Jason Winther) lots of unpleasant memories come flooding back. Then comes the phone calls, the mysterious nose-bleeds, hallucinations & guilt as the true horror of the events all those years ago finally comes to light...<br /><br />Produced, executive produced & directed by Kurt Gioscia who also wrote the thing & Kurt St. Thomas who gets the art direction credit too & if that wasn't enough they both act in the film as well! Personally I thought Jon Good's Wife was awful, I mean she can't cook or anything! Ha ha ha, only joking! Seriously though I didn't think much of the film overall, for a start it's pretty slow going & the entire first 30 minutes is solid snooze material of the reunion consisting of lots of catching up with each other & dull character building exposition. The film never explains itself, what's with those weird nose-bleeds for god's sake, the mysterious phone calls, the almost inconsequential death of one of the group that might or might not be natural & what the hell was Sara all about? She comes across as some nosey, sex crazed, dirty talking, shameless, bitter blackmailing know-it-all whore who apparently sleeps with just about every man she meets! Some of the dialogue she spouts wouldn't be out of place in a porno & it just seems totally at odds with the rest of the film which plays out more like a drama than the horror/thriller it was supposedly meant to be. Then there's the ending, if there's a worse way to end a film then to just leave literally everything hanging in the air with no closure whatsoever I have yet to see it. The whole thing was very predictable as well, I mean is anyone watching this not going to know that when they all mention their friend Calef went 'missing' there wouldn't be more to it?<br /><br />Directors Gioscia & Thomas make an infuriating film, on top of the predictability & annoying climax there is a retrospective narration by Alan which I simply don't understand as he has no more or less significance than anyone else & at what point in time is he narrating from? The reasons behind this narration is never made clear or elaborated upon. There's no tension because the whole things so by-the-numbers.<br /><br />Technically the film is OK but nothing special & some of the locations & clothes didn't look particularly authentic to me, this never convinced me it was taking place during the late 70's. The acting was alright & what about actor John Kuntz last name? I suppose if his wife was standing next to him we could describe them as a couple of Kuntz, right?!<br /><br />I really didn't think much of Jon Good's Wife (a blow up doll would have been better! Ha ha ha) & I'm not sure who it would appeal to. Forget about any gore, horror, violence, scares, atmosphere or excitement, in fact forget about everything that would have made this film watchable because it ain't here. Not recommended.\"\n        ],\n        \"semantic_type\": \"\",\n        \"description\": \"\"\n      }\n    },\n    {\n      \"column\": \"sentiment\",\n      \"properties\": {\n        \"dtype\": \"category\",\n        \"num_unique_values\": 2,\n        \"samples\": [\n          \"negative\",\n          \"positive\"\n        ],\n        \"semantic_type\": \"\",\n        \"description\": \"\"\n      }\n    }\n  ]\n}"
            }
          },
          "metadata": {},
          "execution_count": 13
        }
      ],
      "source": [
        "data.sample(5)"
      ]
    },
    {
      "cell_type": "markdown",
      "source": [
        "Data cleaning and Preprocessing"
      ],
      "metadata": {
        "id": "mqX1pV3kjoqa"
      }
    },
    {
      "cell_type": "code",
      "execution_count": 14,
      "metadata": {
        "id": "KUUiC9uzWmFK"
      },
      "outputs": [],
      "source": [
        "data.replace({'sentiment':{'negative':0,'positive':1}},inplace=True)"
      ]
    },
    {
      "cell_type": "code",
      "execution_count": 15,
      "metadata": {
        "colab": {
          "base_uri": "https://localhost:8080/"
        },
        "id": "Vn8nXEzFWmCi",
        "outputId": "7503de5c-48d2-4411-f549-04760f7e7eb3"
      },
      "outputs": [
        {
          "output_type": "execute_result",
          "data": {
            "text/plain": [
              "sentiment\n",
              "1    25000\n",
              "0    25000\n",
              "Name: count, dtype: int64"
            ]
          },
          "metadata": {},
          "execution_count": 15
        }
      ],
      "source": [
        "data['sentiment'].value_counts()"
      ]
    },
    {
      "cell_type": "code",
      "execution_count": 16,
      "metadata": {
        "colab": {
          "base_uri": "https://localhost:8080/"
        },
        "id": "avLewKveWmAY",
        "outputId": "727d94fc-3b15-4ce8-a774-3ffae78525d1"
      },
      "outputs": [
        {
          "output_type": "stream",
          "name": "stdout",
          "text": [
            "<class 'pandas.core.frame.DataFrame'>\n",
            "RangeIndex: 50000 entries, 0 to 49999\n",
            "Data columns (total 2 columns):\n",
            " #   Column     Non-Null Count  Dtype \n",
            "---  ------     --------------  ----- \n",
            " 0   review     50000 non-null  object\n",
            " 1   sentiment  50000 non-null  int64 \n",
            "dtypes: int64(1), object(1)\n",
            "memory usage: 781.4+ KB\n"
          ]
        }
      ],
      "source": [
        "data.info()"
      ]
    },
    {
      "cell_type": "code",
      "execution_count": 17,
      "metadata": {
        "colab": {
          "base_uri": "https://localhost:8080/"
        },
        "id": "mDOXIz-oWl-H",
        "outputId": "43732ab8-2535-448f-ac9a-6d0e9107db7f"
      },
      "outputs": [
        {
          "output_type": "execute_result",
          "data": {
            "text/plain": [
              "review       0\n",
              "sentiment    0\n",
              "dtype: int64"
            ]
          },
          "metadata": {},
          "execution_count": 17
        }
      ],
      "source": [
        "data.isnull().sum()"
      ]
    },
    {
      "cell_type": "code",
      "execution_count": 18,
      "metadata": {
        "colab": {
          "base_uri": "https://localhost:8080/"
        },
        "id": "geGOFvL-Wl7m",
        "outputId": "b34f2e73-da3b-4837-fb34-7acfdb019931"
      },
      "outputs": [
        {
          "output_type": "execute_result",
          "data": {
            "text/plain": [
              "418"
            ]
          },
          "metadata": {},
          "execution_count": 18
        }
      ],
      "source": [
        "data.duplicated().sum()"
      ]
    },
    {
      "cell_type": "code",
      "execution_count": 19,
      "metadata": {
        "id": "PR6AGOexWl3o"
      },
      "outputs": [],
      "source": [
        "data_cleaned = data.drop_duplicates()\n"
      ]
    },
    {
      "cell_type": "code",
      "execution_count": 20,
      "metadata": {
        "id": "2lj-BMQCYar1"
      },
      "outputs": [],
      "source": [
        "data_cleaned.to_csv('cleaned_dataset.csv', index=False)\n"
      ]
    },
    {
      "cell_type": "code",
      "execution_count": 21,
      "metadata": {
        "id": "VwU7xE-SYhZT"
      },
      "outputs": [],
      "source": [
        "data = pd.read_csv('/content/cleaned_dataset.csv')"
      ]
    },
    {
      "cell_type": "code",
      "execution_count": 22,
      "metadata": {
        "colab": {
          "base_uri": "https://localhost:8080/",
          "height": 206
        },
        "id": "1UypkDDsYqMJ",
        "outputId": "54d5f7aa-fe25-4118-a0d6-a49c92f3c68b"
      },
      "outputs": [
        {
          "output_type": "execute_result",
          "data": {
            "text/plain": [
              "                                                  review  sentiment\n",
              "13451  Charles McDougall's resume includes directing ...          1\n",
              "46166  RUN...do not walk away from this movie!!!!! Ai...          0\n",
              "20205  I have to agree with most of the other posts. ...          1\n",
              "2448   Like most other people, I saw this movie on \"M...          0\n",
              "31518  Great film, a very worthy 7/10.<br /><br />Tom...          1"
            ],
            "text/html": [
              "\n",
              "  <div id=\"df-0ecff6b7-5c88-4aa0-9d7c-00a8df6d142e\" class=\"colab-df-container\">\n",
              "    <div>\n",
              "<style scoped>\n",
              "    .dataframe tbody tr th:only-of-type {\n",
              "        vertical-align: middle;\n",
              "    }\n",
              "\n",
              "    .dataframe tbody tr th {\n",
              "        vertical-align: top;\n",
              "    }\n",
              "\n",
              "    .dataframe thead th {\n",
              "        text-align: right;\n",
              "    }\n",
              "</style>\n",
              "<table border=\"1\" class=\"dataframe\">\n",
              "  <thead>\n",
              "    <tr style=\"text-align: right;\">\n",
              "      <th></th>\n",
              "      <th>review</th>\n",
              "      <th>sentiment</th>\n",
              "    </tr>\n",
              "  </thead>\n",
              "  <tbody>\n",
              "    <tr>\n",
              "      <th>13451</th>\n",
              "      <td>Charles McDougall's resume includes directing ...</td>\n",
              "      <td>1</td>\n",
              "    </tr>\n",
              "    <tr>\n",
              "      <th>46166</th>\n",
              "      <td>RUN...do not walk away from this movie!!!!! Ai...</td>\n",
              "      <td>0</td>\n",
              "    </tr>\n",
              "    <tr>\n",
              "      <th>20205</th>\n",
              "      <td>I have to agree with most of the other posts. ...</td>\n",
              "      <td>1</td>\n",
              "    </tr>\n",
              "    <tr>\n",
              "      <th>2448</th>\n",
              "      <td>Like most other people, I saw this movie on \"M...</td>\n",
              "      <td>0</td>\n",
              "    </tr>\n",
              "    <tr>\n",
              "      <th>31518</th>\n",
              "      <td>Great film, a very worthy 7/10.&lt;br /&gt;&lt;br /&gt;Tom...</td>\n",
              "      <td>1</td>\n",
              "    </tr>\n",
              "  </tbody>\n",
              "</table>\n",
              "</div>\n",
              "    <div class=\"colab-df-buttons\">\n",
              "\n",
              "  <div class=\"colab-df-container\">\n",
              "    <button class=\"colab-df-convert\" onclick=\"convertToInteractive('df-0ecff6b7-5c88-4aa0-9d7c-00a8df6d142e')\"\n",
              "            title=\"Convert this dataframe to an interactive table.\"\n",
              "            style=\"display:none;\">\n",
              "\n",
              "  <svg xmlns=\"http://www.w3.org/2000/svg\" height=\"24px\" viewBox=\"0 -960 960 960\">\n",
              "    <path d=\"M120-120v-720h720v720H120Zm60-500h600v-160H180v160Zm220 220h160v-160H400v160Zm0 220h160v-160H400v160ZM180-400h160v-160H180v160Zm440 0h160v-160H620v160ZM180-180h160v-160H180v160Zm440 0h160v-160H620v160Z\"/>\n",
              "  </svg>\n",
              "    </button>\n",
              "\n",
              "  <style>\n",
              "    .colab-df-container {\n",
              "      display:flex;\n",
              "      gap: 12px;\n",
              "    }\n",
              "\n",
              "    .colab-df-convert {\n",
              "      background-color: #E8F0FE;\n",
              "      border: none;\n",
              "      border-radius: 50%;\n",
              "      cursor: pointer;\n",
              "      display: none;\n",
              "      fill: #1967D2;\n",
              "      height: 32px;\n",
              "      padding: 0 0 0 0;\n",
              "      width: 32px;\n",
              "    }\n",
              "\n",
              "    .colab-df-convert:hover {\n",
              "      background-color: #E2EBFA;\n",
              "      box-shadow: 0px 1px 2px rgba(60, 64, 67, 0.3), 0px 1px 3px 1px rgba(60, 64, 67, 0.15);\n",
              "      fill: #174EA6;\n",
              "    }\n",
              "\n",
              "    .colab-df-buttons div {\n",
              "      margin-bottom: 4px;\n",
              "    }\n",
              "\n",
              "    [theme=dark] .colab-df-convert {\n",
              "      background-color: #3B4455;\n",
              "      fill: #D2E3FC;\n",
              "    }\n",
              "\n",
              "    [theme=dark] .colab-df-convert:hover {\n",
              "      background-color: #434B5C;\n",
              "      box-shadow: 0px 1px 3px 1px rgba(0, 0, 0, 0.15);\n",
              "      filter: drop-shadow(0px 1px 2px rgba(0, 0, 0, 0.3));\n",
              "      fill: #FFFFFF;\n",
              "    }\n",
              "  </style>\n",
              "\n",
              "    <script>\n",
              "      const buttonEl =\n",
              "        document.querySelector('#df-0ecff6b7-5c88-4aa0-9d7c-00a8df6d142e button.colab-df-convert');\n",
              "      buttonEl.style.display =\n",
              "        google.colab.kernel.accessAllowed ? 'block' : 'none';\n",
              "\n",
              "      async function convertToInteractive(key) {\n",
              "        const element = document.querySelector('#df-0ecff6b7-5c88-4aa0-9d7c-00a8df6d142e');\n",
              "        const dataTable =\n",
              "          await google.colab.kernel.invokeFunction('convertToInteractive',\n",
              "                                                    [key], {});\n",
              "        if (!dataTable) return;\n",
              "\n",
              "        const docLinkHtml = 'Like what you see? Visit the ' +\n",
              "          '<a target=\"_blank\" href=https://colab.research.google.com/notebooks/data_table.ipynb>data table notebook</a>'\n",
              "          + ' to learn more about interactive tables.';\n",
              "        element.innerHTML = '';\n",
              "        dataTable['output_type'] = 'display_data';\n",
              "        await google.colab.output.renderOutput(dataTable, element);\n",
              "        const docLink = document.createElement('div');\n",
              "        docLink.innerHTML = docLinkHtml;\n",
              "        element.appendChild(docLink);\n",
              "      }\n",
              "    </script>\n",
              "  </div>\n",
              "\n",
              "\n",
              "<div id=\"df-0d9c09b8-410b-4fb4-937f-52b2624314e0\">\n",
              "  <button class=\"colab-df-quickchart\" onclick=\"quickchart('df-0d9c09b8-410b-4fb4-937f-52b2624314e0')\"\n",
              "            title=\"Suggest charts\"\n",
              "            style=\"display:none;\">\n",
              "\n",
              "<svg xmlns=\"http://www.w3.org/2000/svg\" height=\"24px\"viewBox=\"0 0 24 24\"\n",
              "     width=\"24px\">\n",
              "    <g>\n",
              "        <path d=\"M19 3H5c-1.1 0-2 .9-2 2v14c0 1.1.9 2 2 2h14c1.1 0 2-.9 2-2V5c0-1.1-.9-2-2-2zM9 17H7v-7h2v7zm4 0h-2V7h2v10zm4 0h-2v-4h2v4z\"/>\n",
              "    </g>\n",
              "</svg>\n",
              "  </button>\n",
              "\n",
              "<style>\n",
              "  .colab-df-quickchart {\n",
              "      --bg-color: #E8F0FE;\n",
              "      --fill-color: #1967D2;\n",
              "      --hover-bg-color: #E2EBFA;\n",
              "      --hover-fill-color: #174EA6;\n",
              "      --disabled-fill-color: #AAA;\n",
              "      --disabled-bg-color: #DDD;\n",
              "  }\n",
              "\n",
              "  [theme=dark] .colab-df-quickchart {\n",
              "      --bg-color: #3B4455;\n",
              "      --fill-color: #D2E3FC;\n",
              "      --hover-bg-color: #434B5C;\n",
              "      --hover-fill-color: #FFFFFF;\n",
              "      --disabled-bg-color: #3B4455;\n",
              "      --disabled-fill-color: #666;\n",
              "  }\n",
              "\n",
              "  .colab-df-quickchart {\n",
              "    background-color: var(--bg-color);\n",
              "    border: none;\n",
              "    border-radius: 50%;\n",
              "    cursor: pointer;\n",
              "    display: none;\n",
              "    fill: var(--fill-color);\n",
              "    height: 32px;\n",
              "    padding: 0;\n",
              "    width: 32px;\n",
              "  }\n",
              "\n",
              "  .colab-df-quickchart:hover {\n",
              "    background-color: var(--hover-bg-color);\n",
              "    box-shadow: 0 1px 2px rgba(60, 64, 67, 0.3), 0 1px 3px 1px rgba(60, 64, 67, 0.15);\n",
              "    fill: var(--button-hover-fill-color);\n",
              "  }\n",
              "\n",
              "  .colab-df-quickchart-complete:disabled,\n",
              "  .colab-df-quickchart-complete:disabled:hover {\n",
              "    background-color: var(--disabled-bg-color);\n",
              "    fill: var(--disabled-fill-color);\n",
              "    box-shadow: none;\n",
              "  }\n",
              "\n",
              "  .colab-df-spinner {\n",
              "    border: 2px solid var(--fill-color);\n",
              "    border-color: transparent;\n",
              "    border-bottom-color: var(--fill-color);\n",
              "    animation:\n",
              "      spin 1s steps(1) infinite;\n",
              "  }\n",
              "\n",
              "  @keyframes spin {\n",
              "    0% {\n",
              "      border-color: transparent;\n",
              "      border-bottom-color: var(--fill-color);\n",
              "      border-left-color: var(--fill-color);\n",
              "    }\n",
              "    20% {\n",
              "      border-color: transparent;\n",
              "      border-left-color: var(--fill-color);\n",
              "      border-top-color: var(--fill-color);\n",
              "    }\n",
              "    30% {\n",
              "      border-color: transparent;\n",
              "      border-left-color: var(--fill-color);\n",
              "      border-top-color: var(--fill-color);\n",
              "      border-right-color: var(--fill-color);\n",
              "    }\n",
              "    40% {\n",
              "      border-color: transparent;\n",
              "      border-right-color: var(--fill-color);\n",
              "      border-top-color: var(--fill-color);\n",
              "    }\n",
              "    60% {\n",
              "      border-color: transparent;\n",
              "      border-right-color: var(--fill-color);\n",
              "    }\n",
              "    80% {\n",
              "      border-color: transparent;\n",
              "      border-right-color: var(--fill-color);\n",
              "      border-bottom-color: var(--fill-color);\n",
              "    }\n",
              "    90% {\n",
              "      border-color: transparent;\n",
              "      border-bottom-color: var(--fill-color);\n",
              "    }\n",
              "  }\n",
              "</style>\n",
              "\n",
              "  <script>\n",
              "    async function quickchart(key) {\n",
              "      const quickchartButtonEl =\n",
              "        document.querySelector('#' + key + ' button');\n",
              "      quickchartButtonEl.disabled = true;  // To prevent multiple clicks.\n",
              "      quickchartButtonEl.classList.add('colab-df-spinner');\n",
              "      try {\n",
              "        const charts = await google.colab.kernel.invokeFunction(\n",
              "            'suggestCharts', [key], {});\n",
              "      } catch (error) {\n",
              "        console.error('Error during call to suggestCharts:', error);\n",
              "      }\n",
              "      quickchartButtonEl.classList.remove('colab-df-spinner');\n",
              "      quickchartButtonEl.classList.add('colab-df-quickchart-complete');\n",
              "    }\n",
              "    (() => {\n",
              "      let quickchartButtonEl =\n",
              "        document.querySelector('#df-0d9c09b8-410b-4fb4-937f-52b2624314e0 button');\n",
              "      quickchartButtonEl.style.display =\n",
              "        google.colab.kernel.accessAllowed ? 'block' : 'none';\n",
              "    })();\n",
              "  </script>\n",
              "</div>\n",
              "\n",
              "    </div>\n",
              "  </div>\n"
            ],
            "application/vnd.google.colaboratory.intrinsic+json": {
              "type": "dataframe",
              "summary": "{\n  \"name\": \"data\",\n  \"rows\": 5,\n  \"fields\": [\n    {\n      \"column\": \"review\",\n      \"properties\": {\n        \"dtype\": \"string\",\n        \"num_unique_values\": 5,\n        \"samples\": [\n          \"RUN...do not walk away from this movie!!!!! Aimed at the very young kids, this movie will bore you to tears. If the Gamera trilogy of the 90's raised the bar, this film just lowered it. It's slow paced and the monster fighting is good, but seldom seen. This movie had me dry heaving in the cat box. Just a very poor offering after a phenomenal 90's series.<br /><br />SPOILERS BEYOND THIS POINT!!!!!!!!!!! Here are the top 10 reasons Gamera fans of the 90's series will HATE this film.<br /><br />10. This movie is a drama that follows a kid trying to cope with the death of his mother and fears losing baby Gamera to a fight after knowing his father saw the adult Gamera die.<br /><br />9. You see the adult Gamera for maybe a minute at the beginning of the film. He gets his butt kicked by a few Gyaos and self destructs??? He looks old and lethargic. Plus he looks nothing like any gamera you've ever seen. His suit looked cheap and rushed.<br /><br />8. The young Gamera you see through the rest of the film looks like a Pokemon. Big-eyed and cute...it will remind you of the baby Godzilla from Godzilla vs MechaGodzilla 2. Gamera is now too cute.<br /><br />7. This movie has the pace of watching a NASCAR race during a 3 hour rain delay. I watched this movie with 2 other Gamera fans and nobody was happy with how slowly this film moved along. I've seen an SUV full of fat people going up a mountain road move faster.<br /><br />6. Like Godzilla:Final Wars, this movie had very little kaiju time on screen. Final Wars had much more, actually, and better fights although short.<br /><br />5. Kids take the title role. The friend of all children theme and poor writing killed the original Gamera series in the 1970's and history repeats itself in the 2000's. The most successful Gamera films abandoned the Sesame Street feel and went to a darker place. Why go back to a failed formula? This was to be a new trilogy and poor ticket sales killed any hope for this story to continue (thank god).<br /><br />4. Gamera lost his iconic roar. He now sounds like an Elephant with strep throat.<br /><br />3. This movie may produce a new Olympic event.....Imagine a relay race that involves sending very young children into harm's way. You have to see the ending to understand this point. Where were the parents? Oh yea..right there sending their kids into a kaiju battle zone.<br /><br />2. The special effects were good, but sub-par for a Gamera movie. Legion and Iris had better effects. The best effect was showing the apple sized baby Gamera fly. Not too impressive.<br /><br />1. This movie is just not what adult kaiju fans come to expect. The director was involved in Power Rangers and it shows. It comes off like a cross between ET, Always: Sunset on Third Street and TMNT. Kudos if you know all 3 references.<br /><br />Rental at best or watch once if you buy it to complete the DVD series.\",\n          \"Great film, a very worthy 7/10.<br /><br />Tom Hanks was at his usual best, the heavy drinking congressman who saved Afghanistan from its communist oppressors! Based upon a true story tells us how the West throws money and arms at a problem and expect it to go away. Well, it did go away, albeit temporarily. Look who we (the British, amongst others) are now fighting the very same people who the US gave arms, training and money to in the 80s.<br /><br />This film was always going to provoke political thoughts by the people who watch it, but it does portray a very nice story. However, once the main objective is achieved, i.e. ridding the communists from Afghanistan, it is seen how quickly the plight of people is forgotten about.<br /><br />This film was good, it was a well deserved 7/10. It told the story of the Communist invasion of Afghanistan and the subsequent covert operation by the US to some detail and was dramatised well. Although being a good film, I will recommend it to people but some people will not enjoy it particularly is a serious film about good (US) v evil (Russia) isn't your thing!\",\n          \"I have to agree with most of the other posts. Was it a comedy? a drama? to me it leaned a little to much towards the comedy side. I could have been a great movie without the comedy and it was horribly contrived. Jamie keeps running into the Julio and whats his name. In New York, how many times do you run into someone you know in downtown Cleveland.And just how could Robert Pastorelli dig up Yankee Stadium to hide the gold. Again, a comedy or drama? But it was still entertaining especially for a Sunday morning. I enjoyed Kimberly Elise's performance, she certainly a beautiful actress and seems to take her craft seriously. She is a younger actress that is going to be viable.\"\n        ],\n        \"semantic_type\": \"\",\n        \"description\": \"\"\n      }\n    },\n    {\n      \"column\": \"sentiment\",\n      \"properties\": {\n        \"dtype\": \"number\",\n        \"std\": 0,\n        \"min\": 0,\n        \"max\": 1,\n        \"num_unique_values\": 2,\n        \"samples\": [\n          0,\n          1\n        ],\n        \"semantic_type\": \"\",\n        \"description\": \"\"\n      }\n    }\n  ]\n}"
            }
          },
          "metadata": {},
          "execution_count": 22
        }
      ],
      "source": [
        "data.sample(5)"
      ]
    },
    {
      "cell_type": "code",
      "execution_count": 23,
      "metadata": {
        "colab": {
          "base_uri": "https://localhost:8080/"
        },
        "id": "iutTw_XkYsr9",
        "outputId": "7e787255-307b-4b5d-e10e-47f03dcb85b2"
      },
      "outputs": [
        {
          "output_type": "execute_result",
          "data": {
            "text/plain": [
              "(49582, 2)"
            ]
          },
          "metadata": {},
          "execution_count": 23
        }
      ],
      "source": [
        "data.shape"
      ]
    },
    {
      "cell_type": "code",
      "execution_count": 24,
      "metadata": {
        "colab": {
          "base_uri": "https://localhost:8080/"
        },
        "id": "ZcEZ2WAlYufu",
        "outputId": "ccc19f41-6d05-4a69-acab-ad6cec47c65e"
      },
      "outputs": [
        {
          "output_type": "execute_result",
          "data": {
            "text/plain": [
              "sentiment\n",
              "1    24884\n",
              "0    24698\n",
              "Name: count, dtype: int64"
            ]
          },
          "metadata": {},
          "execution_count": 24
        }
      ],
      "source": [
        "data['sentiment'].value_counts()"
      ]
    },
    {
      "cell_type": "code",
      "execution_count": 25,
      "metadata": {
        "colab": {
          "base_uri": "https://localhost:8080/"
        },
        "id": "x11dINTxY2nq",
        "outputId": "4c13649b-ae25-4019-ca67-2eb82c5c7868"
      },
      "outputs": [
        {
          "output_type": "execute_result",
          "data": {
            "text/plain": [
              "0"
            ]
          },
          "metadata": {},
          "execution_count": 25
        }
      ],
      "source": [
        "data.duplicated().sum()"
      ]
    },
    {
      "cell_type": "markdown",
      "source": [
        "Splitting Data into Train and Test Data"
      ],
      "metadata": {
        "id": "ymctmB3eju7e"
      }
    },
    {
      "cell_type": "code",
      "execution_count": 26,
      "metadata": {
        "id": "0aOdoVMZZaNo"
      },
      "outputs": [],
      "source": [
        "train_data,test_data = train_test_split(data,test_size=0.2,random_state=42)"
      ]
    },
    {
      "cell_type": "markdown",
      "source": [
        "Data Tokenization and applying Zero Padding"
      ],
      "metadata": {
        "id": "uzYt7A-Rj03j"
      }
    },
    {
      "cell_type": "code",
      "execution_count": 27,
      "metadata": {
        "id": "C-5npWfCZaKN"
      },
      "outputs": [],
      "source": [
        "tokenizer = Tokenizer(num_words=5000)\n",
        "tokenizer.fit_on_texts(train_data['review'])\n",
        "x_train =pad_sequences(tokenizer.texts_to_sequences(train_data['review']),maxlen=200)\n",
        "x_test =pad_sequences(tokenizer.texts_to_sequences(test_data['review']),maxlen=200)"
      ]
    },
    {
      "cell_type": "code",
      "execution_count": 28,
      "metadata": {
        "id": "Uz6B7s7FZaH4"
      },
      "outputs": [],
      "source": [
        "y_train = train_data['sentiment']\n",
        "y_test = test_data['sentiment']"
      ]
    },
    {
      "cell_type": "markdown",
      "source": [
        "Model Building"
      ],
      "metadata": {
        "id": "ceDEkAZKj8lg"
      }
    },
    {
      "cell_type": "code",
      "execution_count": 29,
      "metadata": {
        "colab": {
          "base_uri": "https://localhost:8080/",
          "height": 261
        },
        "id": "3j65ieHqZaFP",
        "outputId": "1f3bf1d2-96b8-447b-daa0-9c1868324f82"
      },
      "outputs": [
        {
          "output_type": "stream",
          "name": "stderr",
          "text": [
            "/usr/local/lib/python3.10/dist-packages/keras/src/layers/core/embedding.py:90: UserWarning: Argument `input_length` is deprecated. Just remove it.\n",
            "  warnings.warn(\n"
          ]
        },
        {
          "output_type": "display_data",
          "data": {
            "text/plain": [
              "\u001b[1mModel: \"sequential\"\u001b[0m\n"
            ],
            "text/html": [
              "<pre style=\"white-space:pre;overflow-x:auto;line-height:normal;font-family:Menlo,'DejaVu Sans Mono',consolas,'Courier New',monospace\"><span style=\"font-weight: bold\">Model: \"sequential\"</span>\n",
              "</pre>\n"
            ]
          },
          "metadata": {}
        },
        {
          "output_type": "display_data",
          "data": {
            "text/plain": [
              "┏━━━━━━━━━━━━━━━━━━━━━━━━━━━━━━━━━━━━━━┳━━━━━━━━━━━━━━━━━━━━━━━━━━━━━┳━━━━━━━━━━━━━━━━━┓\n",
              "┃\u001b[1m \u001b[0m\u001b[1mLayer (type)                        \u001b[0m\u001b[1m \u001b[0m┃\u001b[1m \u001b[0m\u001b[1mOutput Shape               \u001b[0m\u001b[1m \u001b[0m┃\u001b[1m \u001b[0m\u001b[1m        Param #\u001b[0m\u001b[1m \u001b[0m┃\n",
              "┡━━━━━━━━━━━━━━━━━━━━━━━━━━━━━━━━━━━━━━╇━━━━━━━━━━━━━━━━━━━━━━━━━━━━━╇━━━━━━━━━━━━━━━━━┩\n",
              "│ embedding (\u001b[38;5;33mEmbedding\u001b[0m)                │ (\u001b[38;5;45mNone\u001b[0m, \u001b[38;5;34m200\u001b[0m, \u001b[38;5;34m128\u001b[0m)            │         \u001b[38;5;34m640,000\u001b[0m │\n",
              "├──────────────────────────────────────┼─────────────────────────────┼─────────────────┤\n",
              "│ lstm (\u001b[38;5;33mLSTM\u001b[0m)                          │ (\u001b[38;5;45mNone\u001b[0m, \u001b[38;5;34m128\u001b[0m)                 │         \u001b[38;5;34m131,584\u001b[0m │\n",
              "├──────────────────────────────────────┼─────────────────────────────┼─────────────────┤\n",
              "│ dense (\u001b[38;5;33mDense\u001b[0m)                        │ (\u001b[38;5;45mNone\u001b[0m, \u001b[38;5;34m1\u001b[0m)                   │             \u001b[38;5;34m129\u001b[0m │\n",
              "└──────────────────────────────────────┴─────────────────────────────┴─────────────────┘\n"
            ],
            "text/html": [
              "<pre style=\"white-space:pre;overflow-x:auto;line-height:normal;font-family:Menlo,'DejaVu Sans Mono',consolas,'Courier New',monospace\">┏━━━━━━━━━━━━━━━━━━━━━━━━━━━━━━━━━━━━━━┳━━━━━━━━━━━━━━━━━━━━━━━━━━━━━┳━━━━━━━━━━━━━━━━━┓\n",
              "┃<span style=\"font-weight: bold\"> Layer (type)                         </span>┃<span style=\"font-weight: bold\"> Output Shape                </span>┃<span style=\"font-weight: bold\">         Param # </span>┃\n",
              "┡━━━━━━━━━━━━━━━━━━━━━━━━━━━━━━━━━━━━━━╇━━━━━━━━━━━━━━━━━━━━━━━━━━━━━╇━━━━━━━━━━━━━━━━━┩\n",
              "│ embedding (<span style=\"color: #0087ff; text-decoration-color: #0087ff\">Embedding</span>)                │ (<span style=\"color: #00d7ff; text-decoration-color: #00d7ff\">None</span>, <span style=\"color: #00af00; text-decoration-color: #00af00\">200</span>, <span style=\"color: #00af00; text-decoration-color: #00af00\">128</span>)            │         <span style=\"color: #00af00; text-decoration-color: #00af00\">640,000</span> │\n",
              "├──────────────────────────────────────┼─────────────────────────────┼─────────────────┤\n",
              "│ lstm (<span style=\"color: #0087ff; text-decoration-color: #0087ff\">LSTM</span>)                          │ (<span style=\"color: #00d7ff; text-decoration-color: #00d7ff\">None</span>, <span style=\"color: #00af00; text-decoration-color: #00af00\">128</span>)                 │         <span style=\"color: #00af00; text-decoration-color: #00af00\">131,584</span> │\n",
              "├──────────────────────────────────────┼─────────────────────────────┼─────────────────┤\n",
              "│ dense (<span style=\"color: #0087ff; text-decoration-color: #0087ff\">Dense</span>)                        │ (<span style=\"color: #00d7ff; text-decoration-color: #00d7ff\">None</span>, <span style=\"color: #00af00; text-decoration-color: #00af00\">1</span>)                   │             <span style=\"color: #00af00; text-decoration-color: #00af00\">129</span> │\n",
              "└──────────────────────────────────────┴─────────────────────────────┴─────────────────┘\n",
              "</pre>\n"
            ]
          },
          "metadata": {}
        },
        {
          "output_type": "display_data",
          "data": {
            "text/plain": [
              "\u001b[1m Total params: \u001b[0m\u001b[38;5;34m771,713\u001b[0m (2.94 MB)\n"
            ],
            "text/html": [
              "<pre style=\"white-space:pre;overflow-x:auto;line-height:normal;font-family:Menlo,'DejaVu Sans Mono',consolas,'Courier New',monospace\"><span style=\"font-weight: bold\"> Total params: </span><span style=\"color: #00af00; text-decoration-color: #00af00\">771,713</span> (2.94 MB)\n",
              "</pre>\n"
            ]
          },
          "metadata": {}
        },
        {
          "output_type": "display_data",
          "data": {
            "text/plain": [
              "\u001b[1m Trainable params: \u001b[0m\u001b[38;5;34m771,713\u001b[0m (2.94 MB)\n"
            ],
            "text/html": [
              "<pre style=\"white-space:pre;overflow-x:auto;line-height:normal;font-family:Menlo,'DejaVu Sans Mono',consolas,'Courier New',monospace\"><span style=\"font-weight: bold\"> Trainable params: </span><span style=\"color: #00af00; text-decoration-color: #00af00\">771,713</span> (2.94 MB)\n",
              "</pre>\n"
            ]
          },
          "metadata": {}
        },
        {
          "output_type": "display_data",
          "data": {
            "text/plain": [
              "\u001b[1m Non-trainable params: \u001b[0m\u001b[38;5;34m0\u001b[0m (0.00 B)\n"
            ],
            "text/html": [
              "<pre style=\"white-space:pre;overflow-x:auto;line-height:normal;font-family:Menlo,'DejaVu Sans Mono',consolas,'Courier New',monospace\"><span style=\"font-weight: bold\"> Non-trainable params: </span><span style=\"color: #00af00; text-decoration-color: #00af00\">0</span> (0.00 B)\n",
              "</pre>\n"
            ]
          },
          "metadata": {}
        }
      ],
      "source": [
        "model = Sequential()\n",
        "model.add(Embedding(input_dim=5000,output_dim=128,input_length=200))\n",
        "model.add(LSTM(128,dropout=0.2,recurrent_dropout=0.2))\n",
        "model.add(Dense(1,activation='sigmoid'))\n",
        "model.build(input_shape=(None, 200))\n",
        "model.summary()\n"
      ]
    },
    {
      "cell_type": "markdown",
      "source": [
        "Model Compilation"
      ],
      "metadata": {
        "id": "qnGu6iLzj_2I"
      }
    },
    {
      "cell_type": "code",
      "execution_count": 30,
      "metadata": {
        "id": "HSijBnLtZaAg"
      },
      "outputs": [],
      "source": [
        "model.compile(optimizer='adam',loss='binary_crossentropy',metrics=['accuracy'])"
      ]
    },
    {
      "cell_type": "markdown",
      "source": [
        "Training the Model"
      ],
      "metadata": {
        "id": "cn7ruacTkD8a"
      }
    },
    {
      "cell_type": "code",
      "execution_count": 31,
      "metadata": {
        "colab": {
          "base_uri": "https://localhost:8080/"
        },
        "id": "GGALcGP5ZS52",
        "outputId": "1b482062-b7df-418f-f53d-d289b0800018"
      },
      "outputs": [
        {
          "output_type": "stream",
          "name": "stdout",
          "text": [
            "Epoch 1/10\n",
            "\u001b[1m496/496\u001b[0m \u001b[32m━━━━━━━━━━━━━━━━━━━━\u001b[0m\u001b[37m\u001b[0m \u001b[1m193s\u001b[0m 376ms/step - accuracy: 0.7218 - loss: 0.5300 - val_accuracy: 0.8364 - val_loss: 0.3924\n",
            "Epoch 2/10\n",
            "\u001b[1m496/496\u001b[0m \u001b[32m━━━━━━━━━━━━━━━━━━━━\u001b[0m\u001b[37m\u001b[0m \u001b[1m199s\u001b[0m 378ms/step - accuracy: 0.8377 - loss: 0.3753 - val_accuracy: 0.8300 - val_loss: 0.3981\n",
            "Epoch 3/10\n",
            "\u001b[1m496/496\u001b[0m \u001b[32m━━━━━━━━━━━━━━━━━━━━\u001b[0m\u001b[37m\u001b[0m \u001b[1m202s\u001b[0m 377ms/step - accuracy: 0.8517 - loss: 0.3529 - val_accuracy: 0.8690 - val_loss: 0.3213\n",
            "Epoch 4/10\n",
            "\u001b[1m496/496\u001b[0m \u001b[32m━━━━━━━━━━━━━━━━━━━━\u001b[0m\u001b[37m\u001b[0m \u001b[1m201s\u001b[0m 377ms/step - accuracy: 0.8962 - loss: 0.2559 - val_accuracy: 0.8755 - val_loss: 0.2958\n",
            "Epoch 5/10\n",
            "\u001b[1m496/496\u001b[0m \u001b[32m━━━━━━━━━━━━━━━━━━━━\u001b[0m\u001b[37m\u001b[0m \u001b[1m198s\u001b[0m 368ms/step - accuracy: 0.9086 - loss: 0.2274 - val_accuracy: 0.8835 - val_loss: 0.3022\n",
            "Epoch 6/10\n",
            "\u001b[1m496/496\u001b[0m \u001b[32m━━━━━━━━━━━━━━━━━━━━\u001b[0m\u001b[37m\u001b[0m \u001b[1m185s\u001b[0m 373ms/step - accuracy: 0.9271 - loss: 0.1842 - val_accuracy: 0.8830 - val_loss: 0.3008\n",
            "Epoch 6: early stopping\n"
          ]
        },
        {
          "output_type": "execute_result",
          "data": {
            "text/plain": [
              "<keras.src.callbacks.history.History at 0x7b3d58b8b640>"
            ]
          },
          "metadata": {},
          "execution_count": 31
        }
      ],
      "source": [
        "from keras.callbacks import EarlyStopping\n",
        "early_stop = EarlyStopping(monitor='val_loss',mode='min',verbose=1,patience=2)\n",
        "model.fit(x_train,y_train,validation_split=0.2,epochs=10,batch_size=64,callbacks=[early_stop])"
      ]
    },
    {
      "cell_type": "markdown",
      "source": [
        "Evaluatiing The Model"
      ],
      "metadata": {
        "id": "Ap8uCiwAsL6-"
      }
    },
    {
      "cell_type": "code",
      "execution_count": 32,
      "metadata": {
        "id": "WvrLYew8a5QS",
        "colab": {
          "base_uri": "https://localhost:8080/"
        },
        "outputId": "187d621a-1098-4d53-b7cc-cdb8a4d39348"
      },
      "outputs": [
        {
          "output_type": "stream",
          "name": "stdout",
          "text": [
            "\u001b[1m310/310\u001b[0m \u001b[32m━━━━━━━━━━━━━━━━━━━━\u001b[0m\u001b[37m\u001b[0m \u001b[1m29s\u001b[0m 92ms/step - accuracy: 0.8847 - loss: 0.2947\n"
          ]
        }
      ],
      "source": [
        "loss,accuracy = model.evaluate(x_test,y_test)"
      ]
    },
    {
      "cell_type": "markdown",
      "source": [
        "Saving the model in .h5 format"
      ],
      "metadata": {
        "id": "EJQRGjG7sPI8"
      }
    },
    {
      "cell_type": "code",
      "source": [
        "model.save('sentiment_model.h5')"
      ],
      "metadata": {
        "colab": {
          "base_uri": "https://localhost:8080/"
        },
        "id": "bFZpp_rclJP9",
        "outputId": "be437722-7ff2-4f27-cc0d-51b1c46ddd62"
      },
      "execution_count": 34,
      "outputs": [
        {
          "output_type": "stream",
          "name": "stderr",
          "text": [
            "WARNING:absl:You are saving your model as an HDF5 file via `model.save()` or `keras.saving.save_model(model)`. This file format is considered legacy. We recommend using instead the native Keras format, e.g. `model.save('my_model.keras')` or `keras.saving.save_model(model, 'my_model.keras')`. \n"
          ]
        }
      ]
    },
    {
      "cell_type": "markdown",
      "source": [
        "Saving the tokenizer"
      ],
      "metadata": {
        "id": "Buf2Ic_9sUt9"
      }
    },
    {
      "cell_type": "code",
      "source": [
        "import pickle\n",
        "with open('token_1.pickle', 'wb') as handle:\n",
        "    pickle.dump(tokenizer, handle, protocol=pickle.HIGHEST_PROTOCOL)"
      ],
      "metadata": {
        "id": "qOqbODEwlLk9"
      },
      "execution_count": 35,
      "outputs": []
    },
    {
      "cell_type": "code",
      "source": [],
      "metadata": {
        "id": "MJJcxfkvrzcw"
      },
      "execution_count": null,
      "outputs": []
    }
  ],
  "metadata": {
    "accelerator": "GPU",
    "colab": {
      "gpuType": "T4",
      "provenance": []
    },
    "kernelspec": {
      "display_name": "Python 3",
      "name": "python3"
    },
    "language_info": {
      "name": "python"
    }
  },
  "nbformat": 4,
  "nbformat_minor": 0
}